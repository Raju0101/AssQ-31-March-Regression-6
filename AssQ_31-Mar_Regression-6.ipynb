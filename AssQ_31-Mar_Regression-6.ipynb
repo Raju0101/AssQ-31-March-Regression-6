{
 "cells": [
  {
   "cell_type": "markdown",
   "id": "3b7a4a5d-5595-4445-af10-90c9296c760d",
   "metadata": {},
   "source": [
    "# AssQ 31- March Regression -6"
   ]
  },
  {
   "cell_type": "code",
   "execution_count": null,
   "id": "709c6533-bd75-4c5b-8a05-553db25365d7",
   "metadata": {},
   "outputs": [],
   "source": [
    "Q1. What are the key steps involved in building an end-to-end web application, from development to \n",
    "deployment on the cloud?"
   ]
  },
  {
   "cell_type": "code",
   "execution_count": null,
   "id": "7f404b0b-06ea-4073-9df8-6fa4ebd48e7b",
   "metadata": {},
   "outputs": [],
   "source": [
    "Web application development process\n",
    "Requirements review & proposal.\n",
    "Planning & blueprints.\n",
    "Web application design.\n",
    "Copywriting & labeling.\n",
    "Web application programming.\n",
    "Testing & launch.\n",
    "Application maintenance.\n",
    "\n",
    "The 5 Steps of Website Deployment\n",
    "Step 1: Prepare.\n",
    "Step 2: Set Up DNS Records.\n",
    "Step 3: Set Up a Live Testing Site.\n",
    "Step 4: Set Up Email Accounts.\n",
    "Step 5: Backup, and Go Live!!!!!!"
   ]
  },
  {
   "cell_type": "code",
   "execution_count": null,
   "id": "91271889-cbb7-4b32-bbc6-8b5382e318f2",
   "metadata": {},
   "outputs": [],
   "source": []
  },
  {
   "cell_type": "code",
   "execution_count": null,
   "id": "3d4d39f0-925d-4ab9-bbb8-70a61d98e4eb",
   "metadata": {},
   "outputs": [],
   "source": [
    "Q2. Explain the difference between traditional web hosting and cloud hosting."
   ]
  },
  {
   "cell_type": "code",
   "execution_count": null,
   "id": "5e8ac04e-ddd3-463f-a9ca-30bfde999574",
   "metadata": {},
   "outputs": [],
   "source": [
    "Cloud hosting is more quickly scalable than traditional hosting. \n",
    "If an application or website receives more or less traffic, \n",
    "the cloud servers scale up and down automatically. With cloud hosting,\n",
    "there's no need to manually add or remove server space as there is in shared hosting.\n",
    "\n",
    "Like cloud-based solutions, hosted services are managed by a third-party provider and accessed via the internet.\n",
    "They also include SaaS, PaaS, and IaaS. Instead of a public cloud, hosted solutions rely on physical servers that\n",
    "the provider owns and maintains privately somewhere off the customer's premises.\n",
    "\n",
    "Traditional hosting is where your website is hosted on a single server—either Shared, VPS, or Dedicated. \n",
    "These are some of the oldest forms of web hosting solutions powering websites of all sizes.\n",
    "\n",
    "Cloud hosting is the ability to make applications and websites available on the internet using the cloud.\n",
    "Cloud hosting pools computing resources from a network of virtual and physical servers,\n",
    "allowing for greater scalability and flexibility to quickly make changes."
   ]
  },
  {
   "cell_type": "code",
   "execution_count": null,
   "id": "397ddbc7-cc18-4441-9c89-72a707541061",
   "metadata": {},
   "outputs": [],
   "source": []
  },
  {
   "cell_type": "code",
   "execution_count": null,
   "id": "59edf739-5193-42a0-8aa1-77aeb27ef8cd",
   "metadata": {},
   "outputs": [],
   "source": [
    "Q3. How do you choose the right cloud provider for your application deployment, and what factors \n",
    "should you consider?"
   ]
  },
  {
   "cell_type": "code",
   "execution_count": null,
   "id": "ba1e1e87-f519-4148-866a-91add9508412",
   "metadata": {},
   "outputs": [],
   "source": [
    "It was found that the most contributing factors for use or cloud computing are technology readiness, human readiness,\n",
    "organization support, environment and, security and privacy.\n",
    "\n",
    "To create such an environment of unlimited innovation, it is important to factor in five priorities in cloud transformation:\n",
    "data and analytics; security; sustainability; connectivity; and scalability.\n",
    "\n",
    "How to pick a cloud service provider? Use these 8 key areas for consideration.\n",
    "Certifications & Standards.\n",
    "Technologies & Service Roadmap.\n",
    "Data Security, Data Governance and Business policies.\n",
    "Service Dependencies & Partnerships.\n",
    "Contracts, Commercials & SLAs.\n",
    "Reliability & Performance.\n",
    "\n",
    "When Selecting A Cloud Service, What Are The Main Things To Consider?\n",
    "Security. The cloud has been a massive boon for all industries worldwide. ...\n",
    "Price. ...\n",
    "Data Storage Location. ...\n",
    "Service Level Agreement. ...\n",
    "Tech Support. ...\n",
    "Architecture. ...\n",
    "Manageability. ...\n",
    "Scalability"
   ]
  },
  {
   "cell_type": "code",
   "execution_count": null,
   "id": "0da53d64-da15-42b3-9337-225d61753603",
   "metadata": {},
   "outputs": [],
   "source": []
  },
  {
   "cell_type": "code",
   "execution_count": null,
   "id": "8b31ddf0-e1e9-48b0-8947-a86f59b31f27",
   "metadata": {},
   "outputs": [],
   "source": [
    "Q4. How do you design and build a responsive user interface for your web application, and what are \n",
    "some best practices to follow?"
   ]
  },
  {
   "cell_type": "code",
   "execution_count": null,
   "id": "320549bc-2cb2-4460-be26-2568d8b52155",
   "metadata": {},
   "outputs": [],
   "source": [
    "Best Practices and Considerations for Responsive Design\n",
    "Prioritize the use of Scalable Vector Graphics (SVGs). ...\n",
    "Include three or more breakpoints ( layouts for three or more devices).\n",
    "Prioritize and hide content to suit users' contexts. ...\n",
    "Aim for minimalism.\n",
    "\n",
    "How to create a Responsive Website\n",
    "Set Appropriate Responsive Breakpoints.\n",
    "Start with a Fluid Grid.\n",
    "Take touchscreens into consideration.\n",
    "Define Typography.\n",
    "Use a pre-designed theme or layout to save time.\n",
    "Test Responsiveness on Real Devices.\n",
    "\n",
    "Responsive web design basics\n",
    "Set the viewport. Ensure an accessible viewport.\n",
    "Size content to the viewport. Images. ...\n",
    "Use CSS media queries for responsiveness. Media queries based on viewport size. ...\n",
    "How to choose breakpoints. Pick major breakpoints by starting small, then working up. ...\n",
    "View media query breakpoints in Chrome DevTools.\n",
    "\n",
    "Squarespace is the most beautiful website builder. It is fully responsive and they have gone as far with mobile support\n",
    "that you can even build your website using a smartphone."
   ]
  },
  {
   "cell_type": "code",
   "execution_count": null,
   "id": "40b9105f-b478-496e-a9f2-88f8fd6a05f2",
   "metadata": {},
   "outputs": [],
   "source": []
  },
  {
   "cell_type": "code",
   "execution_count": null,
   "id": "e74b4cc2-c0ce-4874-b357-2bbc1a99686c",
   "metadata": {},
   "outputs": [],
   "source": [
    "Q5. How do you integrate the machine learning model with the user interface for the Algerian Forest Fires \n",
    "project(which we discussed in class), and what APIs or libraries can you use for this purpose?"
   ]
  },
  {
   "cell_type": "code",
   "execution_count": null,
   "id": "d753c964-3a15-413b-95e8-e0f6845b704e",
   "metadata": {},
   "outputs": [],
   "source": [
    "Machine Learning is required for Forest Fire Prediction as \n",
    "it can handle numerous parameters that are responsible for a forest fire.\n",
    "\n",
    "This Model Predicts using Logistic Regression Algorithm that whether there will be a fire or not in the \n",
    "Algerian Forest on the basis of various given.\n",
    "\n",
    "For the detection of fire conditions, two analytical methods are used, namely,\n",
    "threshold ratio analysis and analysis using a machine learning algorithm.\n",
    "\n",
    "Forest-fires are real threats to human lives, environmental systems and infrastructure.\n",
    "It is predicted that forest fires could destroy half of the world's forests by the year 2030.\n",
    "The only efficient way to minimize the forest fires damage is to adopt early fire detection mechanisms"
   ]
  },
  {
   "cell_type": "code",
   "execution_count": null,
   "id": "2485a256-ea58-418c-a492-036b55c3988c",
   "metadata": {},
   "outputs": [],
   "source": []
  }
 ],
 "metadata": {
  "kernelspec": {
   "display_name": "Python 3 (ipykernel)",
   "language": "python",
   "name": "python3"
  },
  "language_info": {
   "codemirror_mode": {
    "name": "ipython",
    "version": 3
   },
   "file_extension": ".py",
   "mimetype": "text/x-python",
   "name": "python",
   "nbconvert_exporter": "python",
   "pygments_lexer": "ipython3",
   "version": "3.10.6"
  }
 },
 "nbformat": 4,
 "nbformat_minor": 5
}
